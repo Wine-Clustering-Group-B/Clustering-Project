{
 "cells": [
  {
   "cell_type": "markdown",
   "id": "23b6db2e-2d60-4199-ad8a-7733edadb48b",
   "metadata": {},
   "source": [
    "# Modeling \n",
    "- Alcohol vs Sulphates\n",
    "- Free sulfur dioxide vs Total sulfur dioxide\n",
    "- Volatile acidity vs density\n",
    "- Citric Acid vs pH"
   ]
  },
  {
   "cell_type": "code",
   "execution_count": 1,
   "id": "b56d3a3f-43dc-4176-8f14-ec432d2388ab",
   "metadata": {
    "tags": []
   },
   "outputs": [],
   "source": [
    "# normal imports\n",
    "import final_wrangle as wr\n",
    "import final_explore as ex"
   ]
  },
  {
   "cell_type": "code",
   "execution_count": 2,
   "id": "868ca727-6b69-4a36-82cd-1dd11711daf4",
   "metadata": {
    "tags": []
   },
   "outputs": [],
   "source": [
    "# imports for kmeans:\n",
    "import warnings\n",
    "warnings.filterwarnings(\"ignore\")\n",
    "\n",
    "import pandas as pd\n",
    "import numpy as np\n",
    "\n",
    "import matplotlib.pyplot as plt\n",
    "import seaborn as sns\n",
    "\n",
    "from sklearn.cluster import KMeans\n",
    "\n",
    "from pydataset import data\n"
   ]
  },
  {
   "cell_type": "code",
   "execution_count": 3,
   "id": "f18661ce-2bf4-40cd-95da-0f3c0a293fbd",
   "metadata": {
    "tags": []
   },
   "outputs": [
    {
     "data": {
      "text/html": [
       "<div>\n",
       "<style scoped>\n",
       "    .dataframe tbody tr th:only-of-type {\n",
       "        vertical-align: middle;\n",
       "    }\n",
       "\n",
       "    .dataframe tbody tr th {\n",
       "        vertical-align: top;\n",
       "    }\n",
       "\n",
       "    .dataframe thead th {\n",
       "        text-align: right;\n",
       "    }\n",
       "</style>\n",
       "<table border=\"1\" class=\"dataframe\">\n",
       "  <thead>\n",
       "    <tr style=\"text-align: right;\">\n",
       "      <th></th>\n",
       "      <th>fixed acidity</th>\n",
       "      <th>volatile acidity</th>\n",
       "      <th>citric acid</th>\n",
       "      <th>residual sugar</th>\n",
       "      <th>chlorides</th>\n",
       "      <th>free sulfur dioxide</th>\n",
       "      <th>total sulfur dioxide</th>\n",
       "      <th>density</th>\n",
       "      <th>pH</th>\n",
       "      <th>sulphates</th>\n",
       "      <th>alcohol</th>\n",
       "      <th>quality</th>\n",
       "      <th>wine_color</th>\n",
       "    </tr>\n",
       "  </thead>\n",
       "  <tbody>\n",
       "    <tr>\n",
       "      <th>0</th>\n",
       "      <td>7.4</td>\n",
       "      <td>0.70</td>\n",
       "      <td>0.00</td>\n",
       "      <td>1.9</td>\n",
       "      <td>0.076</td>\n",
       "      <td>11.0</td>\n",
       "      <td>34.0</td>\n",
       "      <td>0.9978</td>\n",
       "      <td>3.51</td>\n",
       "      <td>0.56</td>\n",
       "      <td>9.4</td>\n",
       "      <td>5</td>\n",
       "      <td>red</td>\n",
       "    </tr>\n",
       "    <tr>\n",
       "      <th>1</th>\n",
       "      <td>7.8</td>\n",
       "      <td>0.88</td>\n",
       "      <td>0.00</td>\n",
       "      <td>2.6</td>\n",
       "      <td>0.098</td>\n",
       "      <td>25.0</td>\n",
       "      <td>67.0</td>\n",
       "      <td>0.9968</td>\n",
       "      <td>3.20</td>\n",
       "      <td>0.68</td>\n",
       "      <td>9.8</td>\n",
       "      <td>5</td>\n",
       "      <td>red</td>\n",
       "    </tr>\n",
       "    <tr>\n",
       "      <th>2</th>\n",
       "      <td>7.8</td>\n",
       "      <td>0.76</td>\n",
       "      <td>0.04</td>\n",
       "      <td>2.3</td>\n",
       "      <td>0.092</td>\n",
       "      <td>15.0</td>\n",
       "      <td>54.0</td>\n",
       "      <td>0.9970</td>\n",
       "      <td>3.26</td>\n",
       "      <td>0.65</td>\n",
       "      <td>9.8</td>\n",
       "      <td>5</td>\n",
       "      <td>red</td>\n",
       "    </tr>\n",
       "    <tr>\n",
       "      <th>3</th>\n",
       "      <td>11.2</td>\n",
       "      <td>0.28</td>\n",
       "      <td>0.56</td>\n",
       "      <td>1.9</td>\n",
       "      <td>0.075</td>\n",
       "      <td>17.0</td>\n",
       "      <td>60.0</td>\n",
       "      <td>0.9980</td>\n",
       "      <td>3.16</td>\n",
       "      <td>0.58</td>\n",
       "      <td>9.8</td>\n",
       "      <td>6</td>\n",
       "      <td>red</td>\n",
       "    </tr>\n",
       "    <tr>\n",
       "      <th>4</th>\n",
       "      <td>7.4</td>\n",
       "      <td>0.70</td>\n",
       "      <td>0.00</td>\n",
       "      <td>1.9</td>\n",
       "      <td>0.076</td>\n",
       "      <td>11.0</td>\n",
       "      <td>34.0</td>\n",
       "      <td>0.9978</td>\n",
       "      <td>3.51</td>\n",
       "      <td>0.56</td>\n",
       "      <td>9.4</td>\n",
       "      <td>5</td>\n",
       "      <td>red</td>\n",
       "    </tr>\n",
       "  </tbody>\n",
       "</table>\n",
       "</div>"
      ],
      "text/plain": [
       "   fixed acidity  volatile acidity  citric acid  residual sugar  chlorides  \\\n",
       "0            7.4              0.70         0.00             1.9      0.076   \n",
       "1            7.8              0.88         0.00             2.6      0.098   \n",
       "2            7.8              0.76         0.04             2.3      0.092   \n",
       "3           11.2              0.28         0.56             1.9      0.075   \n",
       "4            7.4              0.70         0.00             1.9      0.076   \n",
       "\n",
       "   free sulfur dioxide  total sulfur dioxide  density    pH  sulphates  \\\n",
       "0                 11.0                  34.0   0.9978  3.51       0.56   \n",
       "1                 25.0                  67.0   0.9968  3.20       0.68   \n",
       "2                 15.0                  54.0   0.9970  3.26       0.65   \n",
       "3                 17.0                  60.0   0.9980  3.16       0.58   \n",
       "4                 11.0                  34.0   0.9978  3.51       0.56   \n",
       "\n",
       "   alcohol  quality wine_color  \n",
       "0      9.4        5        red  \n",
       "1      9.8        5        red  \n",
       "2      9.8        5        red  \n",
       "3      9.8        6        red  \n",
       "4      9.4        5        red  "
      ]
     },
     "execution_count": 3,
     "metadata": {},
     "output_type": "execute_result"
    }
   ],
   "source": [
    "# import the wine datafram: \n",
    "df = wr.wine_df()\n",
    "df.head()"
   ]
  },
  {
   "cell_type": "code",
   "execution_count": 4,
   "id": "58381b8a-7db6-4b29-b13c-039b8e19ec4c",
   "metadata": {
    "tags": []
   },
   "outputs": [],
   "source": [
    "# clean the data\n",
    "clean_df = wr.clean_wine(wr.wine_df())"
   ]
  },
  {
   "cell_type": "code",
   "execution_count": 5,
   "id": "a655e4e4-9853-469f-8861-afcdfe5c6683",
   "metadata": {
    "tags": []
   },
   "outputs": [],
   "source": [
    "# remove the outliers\n",
    "clean_df = wr.remove_outliers(clean_df, 3)"
   ]
  },
  {
   "cell_type": "code",
   "execution_count": 6,
   "id": "ea20b6c7-0630-4e63-9c93-2f59349895b8",
   "metadata": {
    "tags": []
   },
   "outputs": [],
   "source": [
    "# split the data into train validate and test:\n",
    "target = 'quality'\n",
    "train, validate, test = wr.split_data(clean_df, target)"
   ]
  },
  {
   "cell_type": "code",
   "execution_count": 7,
   "id": "1284e7c9-24d9-4079-b3f5-093c83f76b50",
   "metadata": {
    "tags": []
   },
   "outputs": [],
   "source": [
    "# drop column: \n",
    "del clean_df['wine_color']\n",
    "del train['wine_color']\n",
    "del validate['wine_color']\n",
    "del test['wine_color']"
   ]
  },
  {
   "cell_type": "code",
   "execution_count": 8,
   "id": "faad7093-f2c6-43f7-8391-760397972af5",
   "metadata": {
    "tags": []
   },
   "outputs": [],
   "source": [
    "# scale the data: \n",
    "to_scale = list(clean_df.columns)\n",
    "train, validate, test = wr.scale_data(train, validate, test, to_scale)"
   ]
  },
  {
   "cell_type": "markdown",
   "id": "6da6a779-c521-4068-8f92-27e02fb1e662",
   "metadata": {},
   "source": [
    "Cluster 1: Train"
   ]
  },
  {
   "cell_type": "code",
   "execution_count": 11,
   "id": "80c13fef-64b2-481f-8fdc-113c3c5eca3d",
   "metadata": {
    "tags": []
   },
   "outputs": [
    {
     "data": {
      "text/plain": [
       "array([1, 0, 2, ..., 1, 0, 0], dtype=int32)"
      ]
     },
     "execution_count": 11,
     "metadata": {},
     "output_type": "execute_result"
    }
   ],
   "source": [
    "X1 = train[['alcohol', 'sulphates']]\n",
    "X1.head()\n",
    "\n",
    "#make the thing: \n",
    "kmeans = KMeans(n_clusters=4)\n",
    "\n",
    "#fit the thing (ONLY ON TRAIN)\n",
    "kmeans.fit(X1)\n",
    "\n",
    "#Use the thing:\n",
    "kmeans.predict(X1)"
   ]
  },
  {
   "cell_type": "code",
   "execution_count": 12,
   "id": "5378d5f4-99e7-4fb3-ac95-8558c0725d76",
   "metadata": {
    "tags": []
   },
   "outputs": [
    {
     "data": {
      "text/html": [
       "<div>\n",
       "<style scoped>\n",
       "    .dataframe tbody tr th:only-of-type {\n",
       "        vertical-align: middle;\n",
       "    }\n",
       "\n",
       "    .dataframe tbody tr th {\n",
       "        vertical-align: top;\n",
       "    }\n",
       "\n",
       "    .dataframe thead th {\n",
       "        text-align: right;\n",
       "    }\n",
       "</style>\n",
       "<table border=\"1\" class=\"dataframe\">\n",
       "  <thead>\n",
       "    <tr style=\"text-align: right;\">\n",
       "      <th></th>\n",
       "      <th>fixed acidity</th>\n",
       "      <th>volatile acidity</th>\n",
       "      <th>citric acid</th>\n",
       "      <th>residual sugar</th>\n",
       "      <th>chlorides</th>\n",
       "      <th>free sulfur dioxide</th>\n",
       "      <th>total sulfur dioxide</th>\n",
       "      <th>density</th>\n",
       "      <th>pH</th>\n",
       "      <th>sulphates</th>\n",
       "      <th>alcohol</th>\n",
       "      <th>quality</th>\n",
       "      <th>wine_color</th>\n",
       "    </tr>\n",
       "  </thead>\n",
       "  <tbody>\n",
       "    <tr>\n",
       "      <th>0</th>\n",
       "      <td>7.4</td>\n",
       "      <td>0.70</td>\n",
       "      <td>0.00</td>\n",
       "      <td>1.9</td>\n",
       "      <td>0.076</td>\n",
       "      <td>11.0</td>\n",
       "      <td>34.0</td>\n",
       "      <td>0.9978</td>\n",
       "      <td>3.51</td>\n",
       "      <td>0.56</td>\n",
       "      <td>9.4</td>\n",
       "      <td>5</td>\n",
       "      <td>red</td>\n",
       "    </tr>\n",
       "    <tr>\n",
       "      <th>1</th>\n",
       "      <td>7.8</td>\n",
       "      <td>0.88</td>\n",
       "      <td>0.00</td>\n",
       "      <td>2.6</td>\n",
       "      <td>0.098</td>\n",
       "      <td>25.0</td>\n",
       "      <td>67.0</td>\n",
       "      <td>0.9968</td>\n",
       "      <td>3.20</td>\n",
       "      <td>0.68</td>\n",
       "      <td>9.8</td>\n",
       "      <td>5</td>\n",
       "      <td>red</td>\n",
       "    </tr>\n",
       "    <tr>\n",
       "      <th>2</th>\n",
       "      <td>7.8</td>\n",
       "      <td>0.76</td>\n",
       "      <td>0.04</td>\n",
       "      <td>2.3</td>\n",
       "      <td>0.092</td>\n",
       "      <td>15.0</td>\n",
       "      <td>54.0</td>\n",
       "      <td>0.9970</td>\n",
       "      <td>3.26</td>\n",
       "      <td>0.65</td>\n",
       "      <td>9.8</td>\n",
       "      <td>5</td>\n",
       "      <td>red</td>\n",
       "    </tr>\n",
       "    <tr>\n",
       "      <th>3</th>\n",
       "      <td>11.2</td>\n",
       "      <td>0.28</td>\n",
       "      <td>0.56</td>\n",
       "      <td>1.9</td>\n",
       "      <td>0.075</td>\n",
       "      <td>17.0</td>\n",
       "      <td>60.0</td>\n",
       "      <td>0.9980</td>\n",
       "      <td>3.16</td>\n",
       "      <td>0.58</td>\n",
       "      <td>9.8</td>\n",
       "      <td>6</td>\n",
       "      <td>red</td>\n",
       "    </tr>\n",
       "    <tr>\n",
       "      <th>4</th>\n",
       "      <td>7.4</td>\n",
       "      <td>0.70</td>\n",
       "      <td>0.00</td>\n",
       "      <td>1.9</td>\n",
       "      <td>0.076</td>\n",
       "      <td>11.0</td>\n",
       "      <td>34.0</td>\n",
       "      <td>0.9978</td>\n",
       "      <td>3.51</td>\n",
       "      <td>0.56</td>\n",
       "      <td>9.4</td>\n",
       "      <td>5</td>\n",
       "      <td>red</td>\n",
       "    </tr>\n",
       "  </tbody>\n",
       "</table>\n",
       "</div>"
      ],
      "text/plain": [
       "   fixed acidity  volatile acidity  citric acid  residual sugar  chlorides  \\\n",
       "0            7.4              0.70         0.00             1.9      0.076   \n",
       "1            7.8              0.88         0.00             2.6      0.098   \n",
       "2            7.8              0.76         0.04             2.3      0.092   \n",
       "3           11.2              0.28         0.56             1.9      0.075   \n",
       "4            7.4              0.70         0.00             1.9      0.076   \n",
       "\n",
       "   free sulfur dioxide  total sulfur dioxide  density    pH  sulphates  \\\n",
       "0                 11.0                  34.0   0.9978  3.51       0.56   \n",
       "1                 25.0                  67.0   0.9968  3.20       0.68   \n",
       "2                 15.0                  54.0   0.9970  3.26       0.65   \n",
       "3                 17.0                  60.0   0.9980  3.16       0.58   \n",
       "4                 11.0                  34.0   0.9978  3.51       0.56   \n",
       "\n",
       "   alcohol  quality wine_color  \n",
       "0      9.4        5        red  \n",
       "1      9.8        5        red  \n",
       "2      9.8        5        red  \n",
       "3      9.8        6        red  \n",
       "4      9.4        5        red  "
      ]
     },
     "execution_count": 12,
     "metadata": {},
     "output_type": "execute_result"
    }
   ],
   "source": [
    "# make a new column names cluster in iris and X dataframe\n",
    "\n",
    "train['cluster_1'] = kmeans.predict(X1)\n",
    "\n",
    "X1['cluster_1'] = kmeans.predict(X1)\n",
    "\n",
    "df.head()"
   ]
  },
  {
   "cell_type": "markdown",
   "id": "d5377cb3-3bc6-42aa-a90a-b41acf7e3de8",
   "metadata": {},
   "source": [
    "Cluster 1: Validate\n"
   ]
  },
  {
   "cell_type": "code",
   "execution_count": 14,
   "id": "adff21fe-a12a-43a0-b9cb-39c621a8e06a",
   "metadata": {
    "tags": []
   },
   "outputs": [
    {
     "data": {
      "text/html": [
       "<div>\n",
       "<style scoped>\n",
       "    .dataframe tbody tr th:only-of-type {\n",
       "        vertical-align: middle;\n",
       "    }\n",
       "\n",
       "    .dataframe tbody tr th {\n",
       "        vertical-align: top;\n",
       "    }\n",
       "\n",
       "    .dataframe thead th {\n",
       "        text-align: right;\n",
       "    }\n",
       "</style>\n",
       "<table border=\"1\" class=\"dataframe\">\n",
       "  <thead>\n",
       "    <tr style=\"text-align: right;\">\n",
       "      <th></th>\n",
       "      <th>fixed_acidity</th>\n",
       "      <th>volatile_acidity</th>\n",
       "      <th>citric_acid</th>\n",
       "      <th>residual_sugar</th>\n",
       "      <th>chlorides</th>\n",
       "      <th>free_sulfur_dioxide</th>\n",
       "      <th>total_sulfur_dioxide</th>\n",
       "      <th>density</th>\n",
       "      <th>pH</th>\n",
       "      <th>sulphates</th>\n",
       "      <th>alcohol</th>\n",
       "      <th>quality</th>\n",
       "      <th>is_white</th>\n",
       "    </tr>\n",
       "  </thead>\n",
       "  <tbody>\n",
       "    <tr>\n",
       "      <th>5258</th>\n",
       "      <td>0.207792</td>\n",
       "      <td>0.548780</td>\n",
       "      <td>0.2000</td>\n",
       "      <td>0.082515</td>\n",
       "      <td>0.217742</td>\n",
       "      <td>0.297297</td>\n",
       "      <td>0.359050</td>\n",
       "      <td>0.085188</td>\n",
       "      <td>0.396552</td>\n",
       "      <td>0.365854</td>\n",
       "      <td>0.838710</td>\n",
       "      <td>0.833333</td>\n",
       "      <td>0.0</td>\n",
       "    </tr>\n",
       "    <tr>\n",
       "      <th>1531</th>\n",
       "      <td>0.298701</td>\n",
       "      <td>0.762195</td>\n",
       "      <td>0.1250</td>\n",
       "      <td>0.086444</td>\n",
       "      <td>0.580645</td>\n",
       "      <td>0.108108</td>\n",
       "      <td>0.062315</td>\n",
       "      <td>0.577877</td>\n",
       "      <td>0.741379</td>\n",
       "      <td>0.524390</td>\n",
       "      <td>0.354839</td>\n",
       "      <td>0.333333</td>\n",
       "      <td>1.0</td>\n",
       "    </tr>\n",
       "    <tr>\n",
       "      <th>849</th>\n",
       "      <td>0.337662</td>\n",
       "      <td>0.670732</td>\n",
       "      <td>0.2625</td>\n",
       "      <td>0.039293</td>\n",
       "      <td>0.572581</td>\n",
       "      <td>0.099099</td>\n",
       "      <td>0.074184</td>\n",
       "      <td>0.614749</td>\n",
       "      <td>0.724138</td>\n",
       "      <td>0.524390</td>\n",
       "      <td>0.290323</td>\n",
       "      <td>0.333333</td>\n",
       "      <td>1.0</td>\n",
       "    </tr>\n",
       "    <tr>\n",
       "      <th>5709</th>\n",
       "      <td>0.493506</td>\n",
       "      <td>0.390244</td>\n",
       "      <td>0.3375</td>\n",
       "      <td>0.023576</td>\n",
       "      <td>0.354839</td>\n",
       "      <td>0.198198</td>\n",
       "      <td>0.551929</td>\n",
       "      <td>0.280992</td>\n",
       "      <td>0.413793</td>\n",
       "      <td>0.182927</td>\n",
       "      <td>0.580645</td>\n",
       "      <td>0.333333</td>\n",
       "      <td>0.0</td>\n",
       "    </tr>\n",
       "    <tr>\n",
       "      <th>5206</th>\n",
       "      <td>0.389610</td>\n",
       "      <td>0.073171</td>\n",
       "      <td>0.2250</td>\n",
       "      <td>0.031434</td>\n",
       "      <td>0.306452</td>\n",
       "      <td>0.261261</td>\n",
       "      <td>0.246291</td>\n",
       "      <td>0.280992</td>\n",
       "      <td>0.456897</td>\n",
       "      <td>0.378049</td>\n",
       "      <td>0.516129</td>\n",
       "      <td>0.500000</td>\n",
       "      <td>0.0</td>\n",
       "    </tr>\n",
       "  </tbody>\n",
       "</table>\n",
       "</div>"
      ],
      "text/plain": [
       "      fixed_acidity  volatile_acidity  citric_acid  residual_sugar  chlorides  \\\n",
       "5258       0.207792          0.548780       0.2000        0.082515   0.217742   \n",
       "1531       0.298701          0.762195       0.1250        0.086444   0.580645   \n",
       "849        0.337662          0.670732       0.2625        0.039293   0.572581   \n",
       "5709       0.493506          0.390244       0.3375        0.023576   0.354839   \n",
       "5206       0.389610          0.073171       0.2250        0.031434   0.306452   \n",
       "\n",
       "      free_sulfur_dioxide  total_sulfur_dioxide   density        pH  \\\n",
       "5258             0.297297              0.359050  0.085188  0.396552   \n",
       "1531             0.108108              0.062315  0.577877  0.741379   \n",
       "849              0.099099              0.074184  0.614749  0.724138   \n",
       "5709             0.198198              0.551929  0.280992  0.413793   \n",
       "5206             0.261261              0.246291  0.280992  0.456897   \n",
       "\n",
       "      sulphates   alcohol   quality  is_white  \n",
       "5258   0.365854  0.838710  0.833333       0.0  \n",
       "1531   0.524390  0.354839  0.333333       1.0  \n",
       "849    0.524390  0.290323  0.333333       1.0  \n",
       "5709   0.182927  0.580645  0.333333       0.0  \n",
       "5206   0.378049  0.516129  0.500000       0.0  "
      ]
     },
     "execution_count": 14,
     "metadata": {},
     "output_type": "execute_result"
    }
   ],
   "source": [
    "validate.head()"
   ]
  },
  {
   "cell_type": "code",
   "execution_count": 15,
   "id": "032a6c9d-55b7-412c-8b50-7d4999b06675",
   "metadata": {
    "tags": []
   },
   "outputs": [
    {
     "data": {
      "text/plain": [
       "array([0, 1, 1, ..., 0, 1, 2], dtype=int32)"
      ]
     },
     "execution_count": 15,
     "metadata": {},
     "output_type": "execute_result"
    }
   ],
   "source": [
    "V1 = validate[['alcohol', 'sulphates']]\n",
    "\n",
    "#use the thing:  \n",
    "kmeans.predict(V1)"
   ]
  },
  {
   "cell_type": "code",
   "execution_count": 17,
   "id": "c7167b52-4829-489f-8e88-196fe22d7d53",
   "metadata": {
    "tags": []
   },
   "outputs": [
    {
     "data": {
      "text/plain": [
       "array([1, 0, 2, ..., 1, 0, 0], dtype=int32)"
      ]
     },
     "execution_count": 17,
     "metadata": {},
     "output_type": "execute_result"
    }
   ],
   "source": [
    "T1 = train[['alcohol','sulphates']]\n",
    "\n",
    "#use the thing:\n",
    "kmeans.predict(T1)"
   ]
  },
  {
   "cell_type": "code",
   "execution_count": null,
   "id": "ebebca86-632b-4e83-87ef-2404718365c8",
   "metadata": {},
   "outputs": [],
   "source": []
  }
 ],
 "metadata": {
  "kernelspec": {
   "display_name": "Python 3 (ipykernel)",
   "language": "python",
   "name": "python3"
  },
  "language_info": {
   "codemirror_mode": {
    "name": "ipython",
    "version": 3
   },
   "file_extension": ".py",
   "mimetype": "text/x-python",
   "name": "python",
   "nbconvert_exporter": "python",
   "pygments_lexer": "ipython3",
   "version": "3.11.4"
  }
 },
 "nbformat": 4,
 "nbformat_minor": 5
}
